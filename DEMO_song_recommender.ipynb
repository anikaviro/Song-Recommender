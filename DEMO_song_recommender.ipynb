{
 "cells": [
  {
   "cell_type": "code",
   "execution_count": 1,
   "metadata": {},
   "outputs": [],
   "source": [
    "from functions_final import best_recommender"
   ]
  },
  {
   "cell_type": "code",
   "execution_count": 3,
   "metadata": {},
   "outputs": [
    {
     "name": "stdout",
     "output_type": "stream",
     "text": [
      "\n",
      "Here are some songs similar to Girls Just Wanna Have Fun by Cindy Lauper:\n",
      "\n"
     ]
    },
    {
     "data": {
      "text/html": [
       "<style type=\"text/css\">\n",
       "</style>\n",
       "<table id=\"T_410dc\">\n",
       "  <thead>\n",
       "    <tr>\n",
       "      <th class=\"blank level0\" >&nbsp;</th>\n",
       "      <th id=\"T_410dc_level0_col0\" class=\"col_heading level0 col0\" >Song titles</th>\n",
       "      <th id=\"T_410dc_level0_col1\" class=\"col_heading level0 col1\" >Artists</th>\n",
       "      <th id=\"T_410dc_level0_col2\" class=\"col_heading level0 col2\" >Public URL</th>\n",
       "    </tr>\n",
       "  </thead>\n",
       "  <tbody>\n",
       "    <tr>\n",
       "      <th id=\"T_410dc_level0_row0\" class=\"row_heading level0 row0\" >1090</th>\n",
       "      <td id=\"T_410dc_row0_col0\" class=\"data row0 col0\" >The Warrior</td>\n",
       "      <td id=\"T_410dc_row0_col1\" class=\"data row0 col1\" >Scandal</td>\n",
       "      <td id=\"T_410dc_row0_col2\" class=\"data row0 col2\" ><a href=\"https://open.spotify.com/track/2hQnLzly0jRPpLPp23sA4i\" target=\"_blank\">https://open.spotify.com/track/2hQnLzly0jRPpLPp23sA4i</a></td>\n",
       "    </tr>\n",
       "    <tr>\n",
       "      <th id=\"T_410dc_level0_row1\" class=\"row_heading level0 row1\" >1938</th>\n",
       "      <td id=\"T_410dc_row1_col0\" class=\"data row1 col0\" >Into the Night</td>\n",
       "      <td id=\"T_410dc_row1_col1\" class=\"data row1 col1\" >Santana</td>\n",
       "      <td id=\"T_410dc_row1_col2\" class=\"data row1 col2\" ><a href=\"https://open.spotify.com/track/5Hv1QAbRWrUSUHaT0CmnMS\" target=\"_blank\">https://open.spotify.com/track/5Hv1QAbRWrUSUHaT0CmnMS</a></td>\n",
       "    </tr>\n",
       "    <tr>\n",
       "      <th id=\"T_410dc_level0_row2\" class=\"row_heading level0 row2\" >118</th>\n",
       "      <td id=\"T_410dc_row2_col0\" class=\"data row2 col0\" >Beg Your Pardon</td>\n",
       "      <td id=\"T_410dc_row2_col1\" class=\"data row2 col1\" >Francis Craig</td>\n",
       "      <td id=\"T_410dc_row2_col2\" class=\"data row2 col2\" ><a href=\"https://open.spotify.com/track/3QtMzmaXaQnHp70RsAZ8rL\" target=\"_blank\">https://open.spotify.com/track/3QtMzmaXaQnHp70RsAZ8rL</a></td>\n",
       "    </tr>\n",
       "    <tr>\n",
       "      <th id=\"T_410dc_level0_row3\" class=\"row_heading level0 row3\" >1242</th>\n",
       "      <td id=\"T_410dc_row3_col0\" class=\"data row3 col0\" >(You Gotta) Fight for Your Right (To Party!)</td>\n",
       "      <td id=\"T_410dc_row3_col1\" class=\"data row3 col1\" >Beastie Boys</td>\n",
       "      <td id=\"T_410dc_row3_col2\" class=\"data row3 col2\" ><a href=\"https://open.spotify.com/track/2QvIOJ4EIz4MIwWRpKG4mi\" target=\"_blank\">https://open.spotify.com/track/2QvIOJ4EIz4MIwWRpKG4mi</a></td>\n",
       "    </tr>\n",
       "    <tr>\n",
       "      <th id=\"T_410dc_level0_row4\" class=\"row_heading level0 row4\" >1677</th>\n",
       "      <td id=\"T_410dc_row4_col0\" class=\"data row4 col0\" >Just a Friend 2002</td>\n",
       "      <td id=\"T_410dc_row4_col1\" class=\"data row4 col1\" >Mario</td>\n",
       "      <td id=\"T_410dc_row4_col2\" class=\"data row4 col2\" ><a href=\"https://open.spotify.com/track/2cxbxpHrND6i4uvUGVvC9J\" target=\"_blank\">https://open.spotify.com/track/2cxbxpHrND6i4uvUGVvC9J</a></td>\n",
       "    </tr>\n",
       "  </tbody>\n",
       "</table>\n"
      ],
      "text/plain": [
       "<pandas.io.formats.style.Styler at 0x254f5489580>"
      ]
     },
     "metadata": {},
     "output_type": "display_data"
    },
    {
     "name": "stdout",
     "output_type": "stream",
     "text": [
      "   \n",
      "**************************************\n",
      "Thanks for using our song recommender!\n",
      "**************************************\n"
     ]
    }
   ],
   "source": [
    "best_recommender()"
   ]
  }
 ],
 "metadata": {
  "kernelspec": {
   "display_name": "base",
   "language": "python",
   "name": "python3"
  },
  "language_info": {
   "codemirror_mode": {
    "name": "ipython",
    "version": 3
   },
   "file_extension": ".py",
   "mimetype": "text/x-python",
   "name": "python",
   "nbconvert_exporter": "python",
   "pygments_lexer": "ipython3",
   "version": "3.9.13"
  },
  "orig_nbformat": 4
 },
 "nbformat": 4,
 "nbformat_minor": 2
}
